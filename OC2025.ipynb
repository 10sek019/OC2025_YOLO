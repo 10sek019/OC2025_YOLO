{
 "cells": [
  {
   "cell_type": "markdown",
   "id": "c3bb17ca",
   "metadata": {},
   "source": [
    "# 物体検出体験"
   ]
  },
  {
   "cell_type": "code",
   "execution_count": 1,
   "id": "e6b61a10",
   "metadata": {},
   "outputs": [],
   "source": [
    "from ultralytics import YOLO\n",
    "import cv2\n",
    "import matplotlib.pyplot as plt"
   ]
  },
  {
   "cell_type": "markdown",
   "id": "ef6516f8",
   "metadata": {},
   "source": [
    "## 検出してみる"
   ]
  },
  {
   "cell_type": "code",
   "execution_count": 2,
   "id": "8e366f59",
   "metadata": {},
   "outputs": [],
   "source": [
    "model = YOLO(\"yolo11n.pt\") #YOLOv8nを使う\n",
    "window_name = \"YOLO\"\n",
    "\n",
    "cap = cv2.VideoCapture(0)\n",
    "cv2.namedWindow(window_name, cv2.WINDOW_NORMAL)\n",
    "cv2.resizeWindow(window_name, int(640*1.5), int(480*1.5)) \n",
    "\n",
    "while True:\n",
    "    ret, frame = cap.read()\n",
    "    if not ret:\n",
    "        break\n",
    "        \n",
    "    # カメラ映像を左右反転\n",
    "    flipped_frame = cv2.flip(frame, 1)\n",
    "\n",
    "    # 推論結果の取得\n",
    "    results = model(flipped_frame, verbose=False)\n",
    "    annotated = results[0].plot()\n",
    "\n",
    "    cv2.imshow(window_name, annotated)\n",
    "\n",
    "    # 'q'キー押下でも終了\n",
    "    if cv2.waitKey(1) == ord('q'):\n",
    "        break\n",
    "\n",
    "    # 「×」クリックでウィンドウが閉じられたかチェック\n",
    "    if cv2.getWindowProperty(window_name, cv2.WND_PROP_VISIBLE) < 1:\n",
    "        break\n",
    "\n",
    "cap.release()\n",
    "cv2.destroyAllWindows()"
   ]
  },
  {
   "cell_type": "code",
   "execution_count": 6,
   "id": "d87ccca1",
   "metadata": {},
   "outputs": [],
   "source": [
    "model = YOLO(\"best.pt\") #YOLOv8nを使う\n",
    "window_name = \"YOLO\"\n",
    "\n",
    "cap = cv2.VideoCapture(0)\n",
    "cv2.namedWindow(window_name, cv2.WINDOW_NORMAL)\n",
    "cv2.resizeWindow(window_name, int(640*1.5), int(480*1.5)) \n",
    "\n",
    "while True:\n",
    "    ret, frame = cap.read()\n",
    "    if not ret:\n",
    "        break\n",
    "        \n",
    "    # カメラ映像を左右反転\n",
    "    flipped_frame = cv2.flip(frame, 1)\n",
    "\n",
    "    # 推論結果の取得\n",
    "    results = model(flipped_frame, verbose=False, conf=0.6)\n",
    "    annotated = results[0].plot()\n",
    "\n",
    "    cv2.imshow(window_name, annotated)\n",
    "\n",
    "    # 'q'キー押下でも終了\n",
    "    if cv2.waitKey(1) == ord('q'):\n",
    "        break\n",
    "\n",
    "    # 「×」クリックでウィンドウが閉じられたかチェック\n",
    "    if cv2.getWindowProperty(window_name, cv2.WND_PROP_VISIBLE) < 1:\n",
    "        break\n",
    "\n",
    "cap.release()\n",
    "cv2.destroyAllWindows()"
   ]
  },
  {
   "cell_type": "code",
   "execution_count": null,
   "id": "5e39650f",
   "metadata": {},
   "outputs": [],
   "source": []
  }
 ],
 "metadata": {
  "kernelspec": {
   "display_name": "streamlit_env",
   "language": "python",
   "name": "streamlit_env"
  },
  "language_info": {
   "codemirror_mode": {
    "name": "ipython",
    "version": 3
   },
   "file_extension": ".py",
   "mimetype": "text/x-python",
   "name": "python",
   "nbconvert_exporter": "python",
   "pygments_lexer": "ipython3",
   "version": "3.11.0"
  }
 },
 "nbformat": 4,
 "nbformat_minor": 5
}
